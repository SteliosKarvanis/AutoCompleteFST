{
 "cells": [
  {
   "cell_type": "markdown",
   "metadata": {},
   "source": [
    "# Test Notebook"
   ]
  },
  {
   "cell_type": "markdown",
   "metadata": {},
   "source": [
    "Before run this notebook:\n",
    "-  Build the project first\n",
    "```bash\n",
    "mkdir build\n",
    "cd build\n",
    "cmake ..\n",
    "make test\n",
    "```\n",
    "- And move this notebook to the bin folder\n",
    "```bash\n",
    "mv test.ipynb ../bin\n",
    "```"
   ]
  },
  {
   "cell_type": "markdown",
   "metadata": {},
   "source": [
    "## Code"
   ]
  },
  {
   "cell_type": "code",
   "execution_count": 1,
   "metadata": {},
   "outputs": [],
   "source": [
    "import random\n",
    "import subprocess"
   ]
  },
  {
   "cell_type": "markdown",
   "metadata": {},
   "source": [
    "Read the dictionary"
   ]
  },
  {
   "cell_type": "code",
   "execution_count": 2,
   "metadata": {},
   "outputs": [],
   "source": [
    "words = []\n",
    "with open(\"../data/american-english-sorted\", 'r') as f:\n",
    "    for word in f.readlines():\n",
    "        words.append(word.replace('\\n', ''))"
   ]
  },
  {
   "cell_type": "markdown",
   "metadata": {},
   "source": [
    "Generate random prefixes"
   ]
  },
  {
   "cell_type": "code",
   "execution_count": 3,
   "metadata": {},
   "outputs": [],
   "source": [
    "num_samples = 1000"
   ]
  },
  {
   "cell_type": "code",
   "execution_count": 4,
   "metadata": {},
   "outputs": [],
   "source": [
    "prefixes = []\n",
    "for word in random.sample(words, num_samples):\n",
    "    while(len(word) < 2):\n",
    "        word = random.choice(words)\n",
    "    rand_int = random.randint(1, len(word)-1)\n",
    "    prefix = word[:rand_int]\n",
    "    prefixes.append(prefix)"
   ]
  },
  {
   "cell_type": "code",
   "execution_count": 5,
   "metadata": {},
   "outputs": [
    {
     "data": {
      "text/plain": [
       "['a', 'pir', 'rise', 'Ki', 'Lo']"
      ]
     },
     "execution_count": 5,
     "metadata": {},
     "output_type": "execute_result"
    }
   ],
   "source": [
    "prefixes[:5]"
   ]
  },
  {
   "cell_type": "markdown",
   "metadata": {},
   "source": [
    "To generate random prefixes with a fix length:"
   ]
  },
  {
   "cell_type": "code",
   "execution_count": 6,
   "metadata": {},
   "outputs": [],
   "source": [
    "def get_random(prefix_len: int):\n",
    "    while True:\n",
    "        word = random.choice(words)\n",
    "        if len(word) >= prefix_len:\n",
    "            break\n",
    "    return word[:prefix_len]\n",
    "\n",
    "def get_result(prefix: str):\n",
    "    return [x for x in words if x.startswith(prefix)]"
   ]
  },
  {
   "cell_type": "code",
   "execution_count": 7,
   "metadata": {},
   "outputs": [
    {
     "name": "stdout",
     "output_type": "stream",
     "text": [
      "hatr\n",
      "['hatred', \"hatred's\", 'hatreds']\n"
     ]
    }
   ],
   "source": [
    "prefix = get_random(prefix_len=4)\n",
    "results = get_result(prefix)\n",
    "print(prefix) \n",
    "print(results)"
   ]
  },
  {
   "cell_type": "code",
   "execution_count": 8,
   "metadata": {},
   "outputs": [],
   "source": [
    "def get_cpp_results(text: str):\n",
    "    program_path = './test_autocomplete'\n",
    "    arguments = [text]\n",
    "    subprocess.run([program_path] + arguments, text=True, capture_output=True)\n",
    "    with open(\"output.txt\", 'r') as f:\n",
    "        result = [x.replace('\\n', '') for x in f.readlines()]\n",
    "    return result\n",
    "\n",
    "def get_expected_results(text):\n",
    "    return [x for x in words if x.startswith(text)]\n",
    "\n",
    "def check(text):\n",
    "    return get_cpp_results(text) == get_expected_results(text)"
   ]
  },
  {
   "cell_type": "code",
   "execution_count": 9,
   "metadata": {},
   "outputs": [
    {
     "data": {
      "text/plain": [
       "True"
      ]
     },
     "execution_count": 9,
     "metadata": {},
     "output_type": "execute_result"
    }
   ],
   "source": [
    "check('lamasae')"
   ]
  },
  {
   "cell_type": "code",
   "execution_count": 12,
   "metadata": {},
   "outputs": [
    {
     "name": "stdout",
     "output_type": "stream",
     "text": [
      "Checking a\n",
      "Checking pir\n",
      "Checking rise\n",
      "Checking Ki\n",
      "Checking Lo\n",
      "Checking und\n",
      "Checking embarrassm\n",
      "Checking pel\n",
      "Checking weighti\n",
      "Checking unhelpf\n",
      "Checking re\n",
      "Checking clas\n",
      "Checking du\n",
      "Checking p\n",
      "Checking w\n",
      "Checking choke'\n",
      "Checking bes\n",
      "Checking c\n",
      "Checking m\n",
      "Checking drasti\n",
      "Checking farc\n",
      "Checking a\n",
      "Checking des\n",
      "Checking metacar\n",
      "Checking b\n",
      "Checking w\n",
      "Checking disentangle\n",
      "Checking Shill\n",
      "Checking particula\n",
      "Checking f\n",
      "Checking cra\n",
      "Checking for\n",
      "Checking confes\n",
      "Checking acquitta\n",
      "Checking flatt\n",
      "Checking b\n",
      "Checking bucket\n",
      "Checking rapid\n",
      "Checking Bra\n",
      "Checking inte\n",
      "Checking blam\n",
      "Checking goite\n",
      "Checking loose\n",
      "Checking kil\n",
      "Checking ste\n",
      "Checking arr\n",
      "Checking und\n",
      "Checking broi\n",
      "Checking ins\n",
      "Checking ca\n",
      "Checking Rafael\n",
      "Checking Roach\n",
      "Checking hu\n",
      "Checking Kawabat\n",
      "Checking obs\n",
      "Checking onlin\n",
      "Checking Stoppar\n",
      "Checking m\n",
      "Checking immobilize\n",
      "Checking deprogr\n",
      "Checking bigwig\n",
      "Checking Khachaturian\n",
      "Checking roadbl\n",
      "Checking titm\n",
      "Checking attr\n",
      "Checking dun\n",
      "Checking tailli\n",
      "Checking count\n",
      "Checking staircas\n",
      "Checking Stanl\n",
      "Checking c\n",
      "Checking dreadnou\n",
      "Checking rea\n",
      "Checking disputa\n",
      "Checking Coope\n",
      "Checking H\n",
      "Checking g\n",
      "Checking su\n",
      "Checking fluore\n",
      "Checking More\n",
      "Checking t\n",
      "Checking flyl\n",
      "Checking r\n",
      "Checking discrim\n",
      "Checking listl\n",
      "Checking come\n",
      "Checking main\n",
      "Checking ruefu\n",
      "Checking s\n",
      "Checking my\n",
      "Checking national\n",
      "Checking out\n",
      "Checking m\n",
      "Checking Dubuq\n",
      "Checking phot\n",
      "Checking bamb\n",
      "Checking capi\n",
      "Checking bu\n",
      "Checking be\n",
      "Checking graze\n"
     ]
    }
   ],
   "source": [
    "for prefix in prefixes[:100]:\n",
    "    print(f\"Checking {prefix}\")\n",
    "    if not check(prefix):\n",
    "        raise Exception(f\"Failed for {prefix}\")"
   ]
  },
  {
   "cell_type": "code",
   "execution_count": null,
   "metadata": {},
   "outputs": [],
   "source": []
  }
 ],
 "metadata": {
  "kernelspec": {
   "display_name": "ita",
   "language": "python",
   "name": "python3"
  },
  "language_info": {
   "codemirror_mode": {
    "name": "ipython",
    "version": 3
   },
   "file_extension": ".py",
   "mimetype": "text/x-python",
   "name": "python",
   "nbconvert_exporter": "python",
   "pygments_lexer": "ipython3",
   "version": "3.9.16"
  }
 },
 "nbformat": 4,
 "nbformat_minor": 2
}
